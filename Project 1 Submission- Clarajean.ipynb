{
 "cells": [
  {
   "cell_type": "code",
   "execution_count": 1,
   "id": "43af9ec3",
   "metadata": {},
   "outputs": [],
   "source": [
    " # Modules\n",
    "import csv \n",
    "import os"
   ]
  },
  {
   "cell_type": "code",
   "execution_count": 2,
   "id": "890406e1",
   "metadata": {},
   "outputs": [],
   "source": [
    "from pathlib import Path"
   ]
  },
  {
   "cell_type": "code",
   "execution_count": 3,
   "id": "51431d1f",
   "metadata": {},
   "outputs": [
    {
     "name": "stdout",
     "output_type": "stream",
     "text": [
      "Toronto_neighborhood_demographics_geographics_venues.csv\n"
     ]
    }
   ],
   "source": [
    "## Set path for file\n",
    "csv_path = Path(\"Toronto_neighborhood_demographics_geographics_venues.csv\")\n",
    "print (csv_path)"
   ]
  },
  {
   "cell_type": "code",
   "execution_count": 5,
   "id": "b354e62b",
   "metadata": {},
   "outputs": [],
   "source": [
    "import pandas as pd"
   ]
  },
  {
   "cell_type": "code",
   "execution_count": 6,
   "id": "367a0573",
   "metadata": {},
   "outputs": [
    {
     "data": {
      "text/plain": [
       "<module 'pandas' from 'C:\\\\Users\\\\cluge\\\\anaconda3\\\\envs\\\\dev\\\\lib\\\\site-packages\\\\pandas\\\\__init__.py'>"
      ]
     },
     "execution_count": 6,
     "metadata": {},
     "output_type": "execute_result"
    }
   ],
   "source": [
    "pd"
   ]
  },
  {
   "cell_type": "code",
   "execution_count": 7,
   "id": "bd062c22",
   "metadata": {},
   "outputs": [
    {
     "data": {
      "text/html": [
       "<div>\n",
       "<style scoped>\n",
       "    .dataframe tbody tr th:only-of-type {\n",
       "        vertical-align: middle;\n",
       "    }\n",
       "\n",
       "    .dataframe tbody tr th {\n",
       "        vertical-align: top;\n",
       "    }\n",
       "\n",
       "    .dataframe thead th {\n",
       "        text-align: right;\n",
       "    }\n",
       "</style>\n",
       "<table border=\"1\" class=\"dataframe\">\n",
       "  <thead>\n",
       "    <tr style=\"text-align: right;\">\n",
       "      <th></th>\n",
       "      <th>District</th>\n",
       "      <th>Total population</th>\n",
       "      <th>number of educated people</th>\n",
       "      <th>number of 15-45</th>\n",
       "      <th>number of employers</th>\n",
       "      <th>long_latt</th>\n",
       "      <th>number_gyms</th>\n",
       "      <th>number_venues</th>\n",
       "    </tr>\n",
       "  </thead>\n",
       "  <tbody>\n",
       "    <tr>\n",
       "      <th>0</th>\n",
       "      <td>Old Toronto</td>\n",
       "      <td>43365</td>\n",
       "      <td>39080</td>\n",
       "      <td>29695</td>\n",
       "      <td>31375</td>\n",
       "      <td>[-79.3546047826462, 43.6549105254359]</td>\n",
       "      <td>3</td>\n",
       "      <td>95</td>\n",
       "    </tr>\n",
       "    <tr>\n",
       "      <th>1</th>\n",
       "      <td>North York</td>\n",
       "      <td>45025</td>\n",
       "      <td>37220</td>\n",
       "      <td>23425</td>\n",
       "      <td>22810</td>\n",
       "      <td>[-79.3911674290048, 43.7806330113652]</td>\n",
       "      <td>0</td>\n",
       "      <td>4</td>\n",
       "    </tr>\n",
       "    <tr>\n",
       "      <th>2</th>\n",
       "      <td>Scarborough</td>\n",
       "      <td>45905</td>\n",
       "      <td>31355</td>\n",
       "      <td>19040</td>\n",
       "      <td>22630</td>\n",
       "      <td>[-79.200181515255, 43.8036974725661]</td>\n",
       "      <td>1</td>\n",
       "      <td>20</td>\n",
       "    </tr>\n",
       "    <tr>\n",
       "      <th>3</th>\n",
       "      <td>Scarborough</td>\n",
       "      <td>53350</td>\n",
       "      <td>33590</td>\n",
       "      <td>22885</td>\n",
       "      <td>21665</td>\n",
       "      <td>[-79.2183581838386, 43.7490457922858]</td>\n",
       "      <td>1</td>\n",
       "      <td>14</td>\n",
       "    </tr>\n",
       "    <tr>\n",
       "      <th>4</th>\n",
       "      <td>Etobicoke</td>\n",
       "      <td>38070</td>\n",
       "      <td>28235</td>\n",
       "      <td>15960</td>\n",
       "      <td>19735</td>\n",
       "      <td>[-79.541660068977, 43.6150511840077]</td>\n",
       "      <td>0</td>\n",
       "      <td>47</td>\n",
       "    </tr>\n",
       "    <tr>\n",
       "      <th>...</th>\n",
       "      <td>...</td>\n",
       "      <td>...</td>\n",
       "      <td>...</td>\n",
       "      <td>...</td>\n",
       "      <td>...</td>\n",
       "      <td>...</td>\n",
       "      <td>...</td>\n",
       "      <td>...</td>\n",
       "    </tr>\n",
       "    <tr>\n",
       "      <th>135</th>\n",
       "      <td>East York</td>\n",
       "      <td>7765</td>\n",
       "      <td>4980</td>\n",
       "      <td>3475</td>\n",
       "      <td>3805</td>\n",
       "      <td>[-79.3354787855352, 43.6725854142185]</td>\n",
       "      <td>1</td>\n",
       "      <td>75</td>\n",
       "    </tr>\n",
       "    <tr>\n",
       "      <th>136</th>\n",
       "      <td>Old Toronto</td>\n",
       "      <td>7790</td>\n",
       "      <td>5435</td>\n",
       "      <td>4565</td>\n",
       "      <td>3680</td>\n",
       "      <td>[-79.3936115465026, 43.6655972244077]</td>\n",
       "      <td>4</td>\n",
       "      <td>95</td>\n",
       "    </tr>\n",
       "    <tr>\n",
       "      <th>137</th>\n",
       "      <td>North York</td>\n",
       "      <td>9950</td>\n",
       "      <td>5260</td>\n",
       "      <td>3765</td>\n",
       "      <td>3560</td>\n",
       "      <td>[-79.5011714568399, 43.7185614269282]</td>\n",
       "      <td>0</td>\n",
       "      <td>18</td>\n",
       "    </tr>\n",
       "    <tr>\n",
       "      <th>138</th>\n",
       "      <td>Old Toronto</td>\n",
       "      <td>10010</td>\n",
       "      <td>5820</td>\n",
       "      <td>4940</td>\n",
       "      <td>3450</td>\n",
       "      <td>[-79.3564502940338, 43.6644904578707]</td>\n",
       "      <td>1</td>\n",
       "      <td>95</td>\n",
       "    </tr>\n",
       "    <tr>\n",
       "      <th>139</th>\n",
       "      <td>York</td>\n",
       "      <td>6490</td>\n",
       "      <td>3585</td>\n",
       "      <td>2805</td>\n",
       "      <td>2790</td>\n",
       "      <td>[-79.4647302913102, 43.692362616926]</td>\n",
       "      <td>0</td>\n",
       "      <td>25</td>\n",
       "    </tr>\n",
       "  </tbody>\n",
       "</table>\n",
       "<p>140 rows × 8 columns</p>\n",
       "</div>"
      ],
      "text/plain": [
       "        District  Total population  number of educated people  \\\n",
       "0    Old Toronto             43365                      39080   \n",
       "1     North York             45025                      37220   \n",
       "2    Scarborough             45905                      31355   \n",
       "3    Scarborough             53350                      33590   \n",
       "4      Etobicoke             38070                      28235   \n",
       "..           ...               ...                        ...   \n",
       "135    East York              7765                       4980   \n",
       "136  Old Toronto              7790                       5435   \n",
       "137   North York              9950                       5260   \n",
       "138  Old Toronto             10010                       5820   \n",
       "139         York              6490                       3585   \n",
       "\n",
       "     number of 15-45  number of employers  \\\n",
       "0              29695                31375   \n",
       "1              23425                22810   \n",
       "2              19040                22630   \n",
       "3              22885                21665   \n",
       "4              15960                19735   \n",
       "..               ...                  ...   \n",
       "135             3475                 3805   \n",
       "136             4565                 3680   \n",
       "137             3765                 3560   \n",
       "138             4940                 3450   \n",
       "139             2805                 2790   \n",
       "\n",
       "                                 long_latt  number_gyms  number_venues  \n",
       "0    [-79.3546047826462, 43.6549105254359]            3             95  \n",
       "1    [-79.3911674290048, 43.7806330113652]            0              4  \n",
       "2     [-79.200181515255, 43.8036974725661]            1             20  \n",
       "3    [-79.2183581838386, 43.7490457922858]            1             14  \n",
       "4     [-79.541660068977, 43.6150511840077]            0             47  \n",
       "..                                     ...          ...            ...  \n",
       "135  [-79.3354787855352, 43.6725854142185]            1             75  \n",
       "136  [-79.3936115465026, 43.6655972244077]            4             95  \n",
       "137  [-79.5011714568399, 43.7185614269282]            0             18  \n",
       "138  [-79.3564502940338, 43.6644904578707]            1             95  \n",
       "139   [-79.4647302913102, 43.692362616926]            0             25  \n",
       "\n",
       "[140 rows x 8 columns]"
      ]
     },
     "execution_count": 7,
     "metadata": {},
     "output_type": "execute_result"
    }
   ],
   "source": [
    "pd.read_csv(csv_path)"
   ]
  },
  {
   "cell_type": "code",
   "execution_count": 8,
   "id": "51563094",
   "metadata": {},
   "outputs": [],
   "source": [
    "#Set a variable for the reading of csv\n",
    "csv_path_df = pd.read_csv(csv_path)"
   ]
  },
  {
   "cell_type": "code",
   "execution_count": 9,
   "id": "0bcd79f4",
   "metadata": {},
   "outputs": [
    {
     "data": {
      "text/html": [
       "<div>\n",
       "<style scoped>\n",
       "    .dataframe tbody tr th:only-of-type {\n",
       "        vertical-align: middle;\n",
       "    }\n",
       "\n",
       "    .dataframe tbody tr th {\n",
       "        vertical-align: top;\n",
       "    }\n",
       "\n",
       "    .dataframe thead th {\n",
       "        text-align: right;\n",
       "    }\n",
       "</style>\n",
       "<table border=\"1\" class=\"dataframe\">\n",
       "  <thead>\n",
       "    <tr style=\"text-align: right;\">\n",
       "      <th></th>\n",
       "      <th>District</th>\n",
       "      <th>Total population</th>\n",
       "      <th>number of educated people</th>\n",
       "      <th>number of 15-45</th>\n",
       "      <th>number of employers</th>\n",
       "      <th>long_latt</th>\n",
       "      <th>number_gyms</th>\n",
       "      <th>number_venues</th>\n",
       "    </tr>\n",
       "  </thead>\n",
       "  <tbody>\n",
       "    <tr>\n",
       "      <th>0</th>\n",
       "      <td>Old Toronto</td>\n",
       "      <td>43365</td>\n",
       "      <td>39080</td>\n",
       "      <td>29695</td>\n",
       "      <td>31375</td>\n",
       "      <td>[-79.3546047826462, 43.6549105254359]</td>\n",
       "      <td>3</td>\n",
       "      <td>95</td>\n",
       "    </tr>\n",
       "    <tr>\n",
       "      <th>1</th>\n",
       "      <td>North York</td>\n",
       "      <td>45025</td>\n",
       "      <td>37220</td>\n",
       "      <td>23425</td>\n",
       "      <td>22810</td>\n",
       "      <td>[-79.3911674290048, 43.7806330113652]</td>\n",
       "      <td>0</td>\n",
       "      <td>4</td>\n",
       "    </tr>\n",
       "    <tr>\n",
       "      <th>2</th>\n",
       "      <td>Scarborough</td>\n",
       "      <td>45905</td>\n",
       "      <td>31355</td>\n",
       "      <td>19040</td>\n",
       "      <td>22630</td>\n",
       "      <td>[-79.200181515255, 43.8036974725661]</td>\n",
       "      <td>1</td>\n",
       "      <td>20</td>\n",
       "    </tr>\n",
       "    <tr>\n",
       "      <th>3</th>\n",
       "      <td>Scarborough</td>\n",
       "      <td>53350</td>\n",
       "      <td>33590</td>\n",
       "      <td>22885</td>\n",
       "      <td>21665</td>\n",
       "      <td>[-79.2183581838386, 43.7490457922858]</td>\n",
       "      <td>1</td>\n",
       "      <td>14</td>\n",
       "    </tr>\n",
       "    <tr>\n",
       "      <th>4</th>\n",
       "      <td>Etobicoke</td>\n",
       "      <td>38070</td>\n",
       "      <td>28235</td>\n",
       "      <td>15960</td>\n",
       "      <td>19735</td>\n",
       "      <td>[-79.541660068977, 43.6150511840077]</td>\n",
       "      <td>0</td>\n",
       "      <td>47</td>\n",
       "    </tr>\n",
       "    <tr>\n",
       "      <th>...</th>\n",
       "      <td>...</td>\n",
       "      <td>...</td>\n",
       "      <td>...</td>\n",
       "      <td>...</td>\n",
       "      <td>...</td>\n",
       "      <td>...</td>\n",
       "      <td>...</td>\n",
       "      <td>...</td>\n",
       "    </tr>\n",
       "    <tr>\n",
       "      <th>135</th>\n",
       "      <td>East York</td>\n",
       "      <td>7765</td>\n",
       "      <td>4980</td>\n",
       "      <td>3475</td>\n",
       "      <td>3805</td>\n",
       "      <td>[-79.3354787855352, 43.6725854142185]</td>\n",
       "      <td>1</td>\n",
       "      <td>75</td>\n",
       "    </tr>\n",
       "    <tr>\n",
       "      <th>136</th>\n",
       "      <td>Old Toronto</td>\n",
       "      <td>7790</td>\n",
       "      <td>5435</td>\n",
       "      <td>4565</td>\n",
       "      <td>3680</td>\n",
       "      <td>[-79.3936115465026, 43.6655972244077]</td>\n",
       "      <td>4</td>\n",
       "      <td>95</td>\n",
       "    </tr>\n",
       "    <tr>\n",
       "      <th>137</th>\n",
       "      <td>North York</td>\n",
       "      <td>9950</td>\n",
       "      <td>5260</td>\n",
       "      <td>3765</td>\n",
       "      <td>3560</td>\n",
       "      <td>[-79.5011714568399, 43.7185614269282]</td>\n",
       "      <td>0</td>\n",
       "      <td>18</td>\n",
       "    </tr>\n",
       "    <tr>\n",
       "      <th>138</th>\n",
       "      <td>Old Toronto</td>\n",
       "      <td>10010</td>\n",
       "      <td>5820</td>\n",
       "      <td>4940</td>\n",
       "      <td>3450</td>\n",
       "      <td>[-79.3564502940338, 43.6644904578707]</td>\n",
       "      <td>1</td>\n",
       "      <td>95</td>\n",
       "    </tr>\n",
       "    <tr>\n",
       "      <th>139</th>\n",
       "      <td>York</td>\n",
       "      <td>6490</td>\n",
       "      <td>3585</td>\n",
       "      <td>2805</td>\n",
       "      <td>2790</td>\n",
       "      <td>[-79.4647302913102, 43.692362616926]</td>\n",
       "      <td>0</td>\n",
       "      <td>25</td>\n",
       "    </tr>\n",
       "  </tbody>\n",
       "</table>\n",
       "<p>140 rows × 8 columns</p>\n",
       "</div>"
      ],
      "text/plain": [
       "        District  Total population  number of educated people  \\\n",
       "0    Old Toronto             43365                      39080   \n",
       "1     North York             45025                      37220   \n",
       "2    Scarborough             45905                      31355   \n",
       "3    Scarborough             53350                      33590   \n",
       "4      Etobicoke             38070                      28235   \n",
       "..           ...               ...                        ...   \n",
       "135    East York              7765                       4980   \n",
       "136  Old Toronto              7790                       5435   \n",
       "137   North York              9950                       5260   \n",
       "138  Old Toronto             10010                       5820   \n",
       "139         York              6490                       3585   \n",
       "\n",
       "     number of 15-45  number of employers  \\\n",
       "0              29695                31375   \n",
       "1              23425                22810   \n",
       "2              19040                22630   \n",
       "3              22885                21665   \n",
       "4              15960                19735   \n",
       "..               ...                  ...   \n",
       "135             3475                 3805   \n",
       "136             4565                 3680   \n",
       "137             3765                 3560   \n",
       "138             4940                 3450   \n",
       "139             2805                 2790   \n",
       "\n",
       "                                 long_latt  number_gyms  number_venues  \n",
       "0    [-79.3546047826462, 43.6549105254359]            3             95  \n",
       "1    [-79.3911674290048, 43.7806330113652]            0              4  \n",
       "2     [-79.200181515255, 43.8036974725661]            1             20  \n",
       "3    [-79.2183581838386, 43.7490457922858]            1             14  \n",
       "4     [-79.541660068977, 43.6150511840077]            0             47  \n",
       "..                                     ...          ...            ...  \n",
       "135  [-79.3354787855352, 43.6725854142185]            1             75  \n",
       "136  [-79.3936115465026, 43.6655972244077]            4             95  \n",
       "137  [-79.5011714568399, 43.7185614269282]            0             18  \n",
       "138  [-79.3564502940338, 43.6644904578707]            1             95  \n",
       "139   [-79.4647302913102, 43.692362616926]            0             25  \n",
       "\n",
       "[140 rows x 8 columns]"
      ]
     },
     "execution_count": 9,
     "metadata": {},
     "output_type": "execute_result"
    }
   ],
   "source": [
    "#Test the variable\n",
    "csv_path_df"
   ]
  },
  {
   "cell_type": "code",
   "execution_count": 10,
   "id": "81c83205",
   "metadata": {},
   "outputs": [],
   "source": [
    "#Deteing unnecessary columns\n",
    "del csv_path_df[\"long_latt\"]"
   ]
  },
  {
   "cell_type": "code",
   "execution_count": 11,
   "id": "31f62de8",
   "metadata": {},
   "outputs": [],
   "source": [
    "del csv_path_df[\"number of educated people\"]"
   ]
  },
  {
   "cell_type": "code",
   "execution_count": 12,
   "id": "f76d9c15",
   "metadata": {},
   "outputs": [],
   "source": [
    "del csv_path_df[\"number of 15-45\"]"
   ]
  },
  {
   "cell_type": "code",
   "execution_count": 13,
   "id": "af1d1d49",
   "metadata": {},
   "outputs": [],
   "source": [
    "del csv_path_df[\"number_gyms\"]"
   ]
  },
  {
   "cell_type": "code",
   "execution_count": 14,
   "id": "744a3ba3",
   "metadata": {},
   "outputs": [],
   "source": [
    "del csv_path_df[\"number_venues\"]"
   ]
  },
  {
   "cell_type": "code",
   "execution_count": 16,
   "id": "aad3b6fb",
   "metadata": {},
   "outputs": [],
   "source": [
    "del csv_path_df[\"Total population\"]"
   ]
  },
  {
   "cell_type": "code",
   "execution_count": 17,
   "id": "efccd2a1",
   "metadata": {},
   "outputs": [
    {
     "data": {
      "text/html": [
       "<div>\n",
       "<style scoped>\n",
       "    .dataframe tbody tr th:only-of-type {\n",
       "        vertical-align: middle;\n",
       "    }\n",
       "\n",
       "    .dataframe tbody tr th {\n",
       "        vertical-align: top;\n",
       "    }\n",
       "\n",
       "    .dataframe thead th {\n",
       "        text-align: right;\n",
       "    }\n",
       "</style>\n",
       "<table border=\"1\" class=\"dataframe\">\n",
       "  <thead>\n",
       "    <tr style=\"text-align: right;\">\n",
       "      <th></th>\n",
       "      <th>District</th>\n",
       "      <th>number of employers</th>\n",
       "    </tr>\n",
       "  </thead>\n",
       "  <tbody>\n",
       "    <tr>\n",
       "      <th>0</th>\n",
       "      <td>Old Toronto</td>\n",
       "      <td>31375</td>\n",
       "    </tr>\n",
       "    <tr>\n",
       "      <th>1</th>\n",
       "      <td>North York</td>\n",
       "      <td>22810</td>\n",
       "    </tr>\n",
       "    <tr>\n",
       "      <th>2</th>\n",
       "      <td>Scarborough</td>\n",
       "      <td>22630</td>\n",
       "    </tr>\n",
       "    <tr>\n",
       "      <th>3</th>\n",
       "      <td>Scarborough</td>\n",
       "      <td>21665</td>\n",
       "    </tr>\n",
       "    <tr>\n",
       "      <th>4</th>\n",
       "      <td>Etobicoke</td>\n",
       "      <td>19735</td>\n",
       "    </tr>\n",
       "    <tr>\n",
       "      <th>...</th>\n",
       "      <td>...</td>\n",
       "      <td>...</td>\n",
       "    </tr>\n",
       "    <tr>\n",
       "      <th>135</th>\n",
       "      <td>East York</td>\n",
       "      <td>3805</td>\n",
       "    </tr>\n",
       "    <tr>\n",
       "      <th>136</th>\n",
       "      <td>Old Toronto</td>\n",
       "      <td>3680</td>\n",
       "    </tr>\n",
       "    <tr>\n",
       "      <th>137</th>\n",
       "      <td>North York</td>\n",
       "      <td>3560</td>\n",
       "    </tr>\n",
       "    <tr>\n",
       "      <th>138</th>\n",
       "      <td>Old Toronto</td>\n",
       "      <td>3450</td>\n",
       "    </tr>\n",
       "    <tr>\n",
       "      <th>139</th>\n",
       "      <td>York</td>\n",
       "      <td>2790</td>\n",
       "    </tr>\n",
       "  </tbody>\n",
       "</table>\n",
       "<p>140 rows × 2 columns</p>\n",
       "</div>"
      ],
      "text/plain": [
       "        District  number of employers\n",
       "0    Old Toronto                31375\n",
       "1     North York                22810\n",
       "2    Scarborough                22630\n",
       "3    Scarborough                21665\n",
       "4      Etobicoke                19735\n",
       "..           ...                  ...\n",
       "135    East York                 3805\n",
       "136  Old Toronto                 3680\n",
       "137   North York                 3560\n",
       "138  Old Toronto                 3450\n",
       "139         York                 2790\n",
       "\n",
       "[140 rows x 2 columns]"
      ]
     },
     "execution_count": 17,
     "metadata": {},
     "output_type": "execute_result"
    }
   ],
   "source": [
    "#Final dataframe with necessary columns\n",
    "csv_path_df"
   ]
  },
  {
   "cell_type": "code",
   "execution_count": 18,
   "id": "47befa20",
   "metadata": {},
   "outputs": [
    {
     "data": {
      "text/plain": [
       "District               140\n",
       "number of employers    140\n",
       "dtype: int64"
      ]
     },
     "execution_count": 18,
     "metadata": {},
     "output_type": "execute_result"
    }
   ],
   "source": [
    "#Identify incomplete rows\n",
    "csv_path_df.count()"
   ]
  },
  {
   "cell_type": "code",
   "execution_count": 19,
   "id": "b202c608",
   "metadata": {},
   "outputs": [
    {
     "data": {
      "text/plain": [
       "District               object\n",
       "number of employers     int64\n",
       "dtype: object"
      ]
     },
     "execution_count": 19,
     "metadata": {},
     "output_type": "execute_result"
    }
   ],
   "source": [
    "#identify if each column has the righ data type\n",
    "csv_path_df.dtypes"
   ]
  },
  {
   "cell_type": "code",
   "execution_count": 66,
   "id": "227a743d",
   "metadata": {},
   "outputs": [
    {
     "data": {
      "text/plain": [
       "Old Toronto    38\n",
       "North York     34\n",
       "SCARBOROUGH    26\n",
       "Etobicoke      17\n",
       "East York      14\n",
       "York           11\n",
       "Name: District, dtype: int64"
      ]
     },
     "execution_count": 66,
     "metadata": {},
     "output_type": "execute_result"
    }
   ],
   "source": [
    "csv_path_df[\"District\"].value_counts()"
   ]
  },
  {
   "cell_type": "code",
   "execution_count": 67,
   "id": "c5c8b570",
   "metadata": {},
   "outputs": [],
   "source": [
    "#Grouping the row values of districts and assigning variable name \"Grouping\"\n",
    "Grouping = csv_path_df.groupby([\"District\"])"
   ]
  },
  {
   "cell_type": "code",
   "execution_count": 68,
   "id": "d4f59923",
   "metadata": {},
   "outputs": [
    {
     "data": {
      "text/plain": [
       "District   number of employers\n",
       "East York  3805                   1\n",
       "           4060                   1\n",
       "           15800                  1\n",
       "           11045                  1\n",
       "           9060                   1\n",
       "                                 ..\n",
       "York       8185                   1\n",
       "           8625                   1\n",
       "           8965                   1\n",
       "           9955                   1\n",
       "           10465                  1\n",
       "Length: 138, dtype: int64"
      ]
     },
     "execution_count": 68,
     "metadata": {},
     "output_type": "execute_result"
    }
   ],
   "source": [
    "#Grouping the row values of number of employers to be total per district and not separated by rows\n",
    "Grouping.value_counts([\"number of employers\"])"
   ]
  },
  {
   "cell_type": "code",
   "execution_count": 69,
   "id": "f305f42a",
   "metadata": {},
   "outputs": [],
   "source": [
    "#Calculating the total of number of employers for each district\n",
    "sum_values= Grouping[\"number of employers\"].sum()"
   ]
  },
  {
   "cell_type": "code",
   "execution_count": 70,
   "id": "6260ab6d",
   "metadata": {},
   "outputs": [
    {
     "data": {
      "text/plain": [
       "District\n",
       "East York      100305\n",
       "Etobicoke      141350\n",
       "North York     288810\n",
       "Old Toronto    377510\n",
       "SCARBOROUGH    282050\n",
       "York            76885\n",
       "Name: number of employers, dtype: int64"
      ]
     },
     "execution_count": 70,
     "metadata": {},
     "output_type": "execute_result"
    }
   ],
   "source": [
    "#Printing the results of the sum\n",
    "sum_values.head(6)"
   ]
  },
  {
   "cell_type": "code",
   "execution_count": 71,
   "id": "0d809146",
   "metadata": {},
   "outputs": [
    {
     "data": {
      "text/plain": [
       "count         6.000000\n",
       "mean     211151.666667\n",
       "std      121588.880605\n",
       "min       76885.000000\n",
       "25%      110566.250000\n",
       "50%      211700.000000\n",
       "75%      287120.000000\n",
       "max      377510.000000\n",
       "Name: number of employers, dtype: float64"
      ]
     },
     "execution_count": 71,
     "metadata": {},
     "output_type": "execute_result"
    }
   ],
   "source": [
    "#Statistical measures for the number of employers per District\n",
    "sum_values.describe()"
   ]
  },
  {
   "cell_type": "code",
   "execution_count": 72,
   "id": "57da81f6",
   "metadata": {},
   "outputs": [],
   "source": [
    "#Importing Numpy for calculations and matplotlib for charting\n",
    "import numpy as np\n",
    "import matplotlib.pyplot as plt"
   ]
  },
  {
   "cell_type": "code",
   "execution_count": 73,
   "id": "caebee66",
   "metadata": {},
   "outputs": [],
   "source": [
    "#Creating an array with the total number of employers per district calculated above and call it Employers\n",
    "Employers = [100305, 141350, 288810, 377510, 282050, 76885]\n",
    "x_axis = np.arange(1,len(Employers)+1)"
   ]
  },
  {
   "cell_type": "code",
   "execution_count": 74,
   "id": "e1bd7cf8",
   "metadata": {},
   "outputs": [
    {
     "data": {
      "text/plain": [
       "<BarContainer object of 6 artists>"
      ]
     },
     "execution_count": 74,
     "metadata": {},
     "output_type": "execute_result"
    },
    {
     "data": {
      "image/png": "[encoded data removed]",
      "text/plain": [
       "<Figure size 640x480 with 1 Axes>"
      ]
     },
     "metadata": {},
     "output_type": "display_data"
    }
   ],
   "source": [
    "#Tell matplotlib that we will be makin a bar chart\n",
    "#Employers is our y-axis and x-axis is x\n",
    "#Applying align='center' to ensure bars line up with tick marks\n",
    "plt.bar(x_axis, Employers, color='r', alpha=0.5, align=\"center\")"
   ]
  },
  {
   "cell_type": "code",
   "execution_count": 75,
   "id": "45df78ff",
   "metadata": {},
   "outputs": [
    {
     "data": {
      "text/plain": [
       "array([1, 2, 3, 4, 5, 6])"
      ]
     },
     "execution_count": 75,
     "metadata": {},
     "output_type": "execute_result"
    }
   ],
   "source": [
    "x_axis"
   ]
  },
  {
   "cell_type": "code",
   "execution_count": 83,
   "id": "cc4ea2c5",
   "metadata": {},
   "outputs": [
    {
     "data": {
      "image/png": "[encoded data removed]",
      "text/plain": [
       "<Figure size 640x480 with 1 Axes>"
      ]
     },
     "metadata": {},
     "output_type": "display_data"
    }
   ],
   "source": [
    "#Tell matplotlib where to place each of x-axis headers\n",
    "plt.bar(x_axis, Employers, color='r', alpha=0.5, align=\"center\")\n",
    "\n",
    "#change headers of x_axis\n",
    "tick_locations = [value for value in x_axis]\n",
    "plt.xticks(tick_locations, [\"East York\", \"Etobicoke\", \"North York\", \"Old Toronto \", \"  Scarborough\", \"York\"])\n",
    "\n",
    "#Set the x limits of the current chart and Set limits for y axis so bars dont ereach ceiling\n",
    "plt.xlim(0.5, len(x_axis)+0.5)\n",
    "plt.ylim(0, max(Employers)+20000)\n",
    "\n",
    "#Give chart some labels and a title\n",
    "plt.title (\"Number of Employers per District\")\n",
    "plt.xlabel(\"Districts\")\n",
    "plt.ylabel(\"Number of Employers\")\n",
    "plt.savefig(\"Fig1Clarajean.png\")\n",
    "plt.show()"
   ]
  },
  {
   "cell_type": "code",
   "execution_count": 80,
   "id": "d91d6556",
   "metadata": {},
   "outputs": [],
   "source": [
    "#Labels for the sections of our pie chart\n",
    "Districts = [\"East York\", \"Etobicoke\", \"North York\", \"Old Toronto \", \"  Scarborough\", \"York\"]\n",
    "\n",
    "#The values of each section of the pie chart\n",
    "\n",
    "Employers = [100305, 141350, 288810, 377510, 282050, 76885]\n",
    "\n",
    "#The colors of each section of the pie chart\n",
    "colors = [\"red\", \"orange\", \"lightcoral\", \"lightskyblue\", \"yellow\", \"green\"]\n",
    "\n",
    "#Separating Old Toronto from the rest due to it having the highest number of employers\n",
    "explode = [0, 0, 0, 0.1, 0, 0]"
   ]
  },
  {
   "cell_type": "code",
   "execution_count": 87,
   "id": "996e644d",
   "metadata": {},
   "outputs": [
    {
     "data": {
      "image/png": "[encoded data removed]",
      "text/plain": [
       "<Figure size 640x480 with 1 Axes>"
      ]
     },
     "metadata": {},
     "output_type": "display_data"
    }
   ],
   "source": [
    "#Creates the pie chart based on value above\n",
    "#Automatically find the finds the percentages of each part of the pie chart\n",
    "plt.pie(Employers, explode=explode, labels=Districts, colors=colors, autopct=\n",
    "       \"%1.1f%%\", shadow=True, startangle=140)\n",
    "#Telling matplotlib that I want a pie chart with equal axes\n",
    "plt.axis(\"equal\")\n",
    "plt.savefig(\"Fig2Clarajean.png\")\n",
    "plt.show()"
   ]
  },
  {
   "cell_type": "code",
   "execution_count": 88,
   "id": "c8fbdc17",
   "metadata": {},
   "outputs": [],
   "source": [
    "#Conclusion - There are more employers in Old Toronto district\n",
    "#Data set was from the link https://www.kaggle.com/datasets/youssef19/toronto-neighborhoods-inforamtion"
   ]
  },
  {
   "cell_type": "code",
   "execution_count": null,
   "id": "ab98518e",
   "metadata": {},
   "outputs": [],
   "source": []
  }
 ],
 "metadata": {
  "kernelspec": {
   "display_name": "Python 3 (ipykernel)",
   "language": "python",
   "name": "python3"
  },
  "language_info": {
   "codemirror_mode": {
    "name": "ipython",
    "version": 3
   },
   "file_extension": ".py",
   "mimetype": "text/x-python",
   "name": "python",
   "nbconvert_exporter": "python",
   "pygments_lexer": "ipython3",
   "version": "3.10.11"
  }
 },
 "nbformat": 4,
 "nbformat_minor": 5
}
